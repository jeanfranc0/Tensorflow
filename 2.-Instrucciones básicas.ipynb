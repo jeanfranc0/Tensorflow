{
 "cells": [
  {
   "cell_type": "markdown",
   "metadata": {},
   "source": [
    "<b>Bienvenido a TensorFlow</b>\n",
    "<img src=\"images/LOGO.jpeg\">"
   ]
  },
  {
   "cell_type": "markdown",
   "metadata": {},
   "source": [
    "<b>Tensors</b>\n",
    "<br>\n",
    "Esta secuencia de comandos presenta varias formas de crear tensores en TensorFlow Primero comenzamos cargando TensorFlow y restableciendo el gráfico computacional. Por ejemplo.\n",
    "<br>\n",
    "<img src=\"images/tensor_reshape.jpg\">"
   ]
  },
  {
   "cell_type": "code",
   "execution_count": 1,
   "metadata": {
    "collapsed": false
   },
   "outputs": [],
   "source": [
    "import tensorflow as tf\n",
    "from tensorflow.python.framework import ops\n",
    "ops.reset_default_graph()"
   ]
  },
  {
   "cell_type": "markdown",
   "metadata": {
    "collapsed": true
   },
   "source": [
    "<b>Iniciar una sesión</b>\n",
    "<br>\n",
    "Obtener el control del gráfico con tf.Sesión ()"
   ]
  },
  {
   "cell_type": "code",
   "execution_count": 2,
   "metadata": {
    "collapsed": false
   },
   "outputs": [],
   "source": [
    "sess = tf.Session()"
   ]
  },
  {
   "cell_type": "markdown",
   "metadata": {},
   "source": [
    "<b>Creando tensores</b>\n",
    "\n",
    "<br>\n",
    "<b>Rango 0</b>\n",
    "<br>\n",
    "El siguiente fragmento muestra la creación de algunas variables de rango 0:"
   ]
  },
  {
   "cell_type": "code",
   "execution_count": 3,
   "metadata": {
    "collapsed": true
   },
   "outputs": [],
   "source": [
    "mammal = tf.Variable(\"Elephant\", tf.string)\n",
    "ignition = tf.Variable(451, tf.int16)\n",
    "floating = tf.Variable(3.14159265359, tf.float64)\n",
    "its_complicated = tf.Variable(12.3 - 4.85, tf.complex64)"
   ]
  },
  {
   "cell_type": "markdown",
   "metadata": {},
   "source": [
    "<b>Rango 1</b>\n",
    "<br>\n",
    "Para crear un objeto de rango 1 tf.Tensor, puede pasar una lista de elementos como el valor inicial. Por ejemplo:"
   ]
  },
  {
   "cell_type": "code",
   "execution_count": 4,
   "metadata": {
    "collapsed": false
   },
   "outputs": [],
   "source": [
    "mystr = tf.Variable([\"Hello\"], tf.string)\n",
    "cool_numbers  = tf.Variable([3.14159, 2.71828], tf.float32)\n",
    "first_primes = tf.Variable([2, 3, 5, 7, 11], tf.int32)\n",
    "its_very_complicated = tf.Variable([12.3 - 4.85, 7.5 - 6.23j], tf.complex64)"
   ]
  },
  {
   "cell_type": "markdown",
   "metadata": {},
   "source": [
    "<b>Rangos más altos</b>\n",
    "<br>\n",
    "Un objeto Tensor de rango 2 consta de al menos una fila y al menos una columna:"
   ]
  },
  {
   "cell_type": "code",
   "execution_count": 5,
   "metadata": {
    "collapsed": false
   },
   "outputs": [
    {
     "name": "stdout",
     "output_type": "stream",
     "text": [
      "[[ 7]\n",
      " [11]]\n",
      "[[ 4]\n",
      " [ 9]\n",
      " [16]\n",
      " [25]]\n"
     ]
    }
   ],
   "source": [
    "mymat = tf.Variable([[7],[11]], tf.int16)\n",
    "myxor = tf.Variable([[False, True],[True, False]], tf.bool)\n",
    "linear_squares = tf.Variable([[4], [9], [16], [25]], tf.int32)\n",
    "squarish_squares = tf.Variable([ [4, 9], [16, 25] ], tf.int32)\n",
    "rank_of_squares = tf.rank(squarish_squares)\n",
    "mymatC = tf.Variable([[7],[11]], tf.int32)\n",
    "\n",
    "sess.run(linear_squares.initializer)\n",
    "sess.run(mymat.initializer)\n",
    "\n",
    "print sess.run(mymat)\n",
    "print sess.run(linear_squares)"
   ]
  },
  {
   "cell_type": "markdown",
   "metadata": {
    "collapsed": false
   },
   "source": [
    "Tensorflow tiene una función incorporada para crear tensores para usar en variables. Por ejemplo, podemos crear un tensor lleno de cero de forma predefinida usando la función tf.zeros() de la siguiente manera."
   ]
  },
  {
   "cell_type": "code",
   "execution_count": 6,
   "metadata": {
    "collapsed": false
   },
   "outputs": [],
   "source": [
    "tensor = tf.zeros([1,20])"
   ]
  },
  {
   "cell_type": "markdown",
   "metadata": {
    "collapsed": false
   },
   "source": [
    "Los algoritmos de TensorFlow necesitan saber qué objetos son variables y cuáles son constantes. La diferencia entre estos dos objetos se explicará más adelante. Por ahora, creamos una variable usando la función TensorFlow tf.Variable() de la siguiente manera."
   ]
  },
  {
   "cell_type": "code",
   "execution_count": 7,
   "metadata": {
    "collapsed": false
   },
   "outputs": [],
   "source": [
    "var = tf.Variable(tf.zeros([1,20]))"
   ]
  },
  {
   "cell_type": "markdown",
   "metadata": {},
   "source": [
    "Tenga en cuenta que no puede ejecutar sess.run(var), esto daría lugar a un error. Debido a que TensorFlow opera con gráficos computacionales, tenemos que crear una operación de inicialización de variables para evaluarlas. Veremos más de esto más adelante. Para este script, podemos inicializar una variable a la vez llamando al método variable var.initializer."
   ]
  },
  {
   "cell_type": "code",
   "execution_count": 8,
   "metadata": {
    "collapsed": false
   },
   "outputs": [
    {
     "data": {
      "text/plain": [
       "array([[ 0.,  0.,  0.,  0.,  0.,  0.,  0.,  0.,  0.,  0.,  0.,  0.,  0.,\n",
       "         0.,  0.,  0.,  0.,  0.,  0.,  0.]], dtype=float32)"
      ]
     },
     "execution_count": 8,
     "metadata": {},
     "output_type": "execute_result"
    }
   ],
   "source": [
    "sess.run(var.initializer)\n",
    "sess.run(var)"
   ]
  },
  {
   "cell_type": "markdown",
   "metadata": {
    "collapsed": false
   },
   "source": [
    "Comencemos primero creando variables de forma específica declarando el tamaño de nuestra fila y columna."
   ]
  },
  {
   "cell_type": "code",
   "execution_count": 9,
   "metadata": {
    "collapsed": false
   },
   "outputs": [],
   "source": [
    "dim_fila = 2\n",
    "dim_col = 3"
   ]
  },
  {
   "cell_type": "markdown",
   "metadata": {
    "collapsed": false
   },
   "source": [
    "Aquí utilizamos variables inicializadas para contener todos los ceros o unos."
   ]
  },
  {
   "cell_type": "code",
   "execution_count": 10,
   "metadata": {
    "collapsed": true
   },
   "outputs": [],
   "source": [
    "zero_var = tf.Variable(tf.zeros([dim_fila, dim_col]))\n",
    "ones_var = tf.Variable(tf.ones([dim_fila, dim_col]))"
   ]
  },
  {
   "cell_type": "markdown",
   "metadata": {},
   "source": [
    "De nuevo, se debe llamar al método de inicialización de nuestras variables y ejecutarlas para evaluar sus contenidos."
   ]
  },
  {
   "cell_type": "code",
   "execution_count": 11,
   "metadata": {
    "collapsed": false
   },
   "outputs": [
    {
     "name": "stdout",
     "output_type": "stream",
     "text": [
      "[[ 0.  0.  0.]\n",
      " [ 0.  0.  0.]]\n",
      "[[ 1.  1.  1.]\n",
      " [ 1.  1.  1.]]\n"
     ]
    }
   ],
   "source": [
    "sess.run(zero_var.initializer)\n",
    "sess.run(ones_var.initializer)\n",
    "print(sess.run(zero_var))\n",
    "print(sess.run(ones_var))"
   ]
  },
  {
   "cell_type": "markdown",
   "metadata": {},
   "source": [
    "<b>Cambiando la forma de un Tensor</b>\n",
    "<br>\n",
    "La cantidad de elementos de un tensor es el producto de los tamaños de todas sus formas. El número de elementos de un escalar es siempre 1. Como a menudo hay muchas formas diferentes que tienen el mismo número de elementos, a menudo es conveniente poder cambiar la forma de un tf.Tensor, manteniendo sus elementos fijos. Esto se puede hacer con tf.reshape.\n",
    "\n"
   ]
  },
  {
   "cell_type": "code",
   "execution_count": 12,
   "metadata": {
    "collapsed": false
   },
   "outputs": [
    {
     "name": "stdout",
     "output_type": "stream",
     "text": [
      "[[[ 1.  1.  1.  1.  1.]\n",
      "  [ 1.  1.  1.  1.  1.]\n",
      "  [ 1.  1.  1.  1.  1.]\n",
      "  [ 1.  1.  1.  1.  1.]]\n",
      "\n",
      " [[ 1.  1.  1.  1.  1.]\n",
      "  [ 1.  1.  1.  1.  1.]\n",
      "  [ 1.  1.  1.  1.  1.]\n",
      "  [ 1.  1.  1.  1.  1.]]\n",
      "\n",
      " [[ 1.  1.  1.  1.  1.]\n",
      "  [ 1.  1.  1.  1.  1.]\n",
      "  [ 1.  1.  1.  1.  1.]\n",
      "  [ 1.  1.  1.  1.  1.]]]\n",
      "[[ 1.  1.  1.  1.  1.  1.  1.  1.  1.  1.  1.  1.  1.  1.  1.  1.  1.  1.\n",
      "   1.  1.  1.  1.  1.  1.  1.  1.  1.  1.  1.  1.]\n",
      " [ 1.  1.  1.  1.  1.  1.  1.  1.  1.  1.  1.  1.  1.  1.  1.  1.  1.  1.\n",
      "   1.  1.  1.  1.  1.  1.  1.  1.  1.  1.  1.  1.]]\n",
      "[ 1.  1.  1.  1.  1.  1.  1.  1.  1.  1.  1.  1.  1.  1.  1.  1.  1.  1.\n",
      "  1.  1.  1.  1.  1.  1.  1.  1.  1.  1.  1.  1.  1.  1.  1.  1.  1.  1.\n",
      "  1.  1.  1.  1.  1.  1.  1.  1.  1.  1.  1.  1.  1.  1.  1.  1.  1.  1.\n",
      "  1.  1.  1.  1.  1.  1.]\n"
     ]
    }
   ],
   "source": [
    "rank_three_tensor = tf.ones([3, 4, 5]) # 3 * 4 * 5=60\n",
    "matrix = tf.reshape(rank_three_tensor, [2,30]) #encontrar una forma de distribución de 60 elementos.Donde  2*30=60\n",
    "matrixB = tf.reshape(matrix, [-1]) #Significa que -1 encuentra la distribución más adecuada. En este caso, asigna un vector de 60 elementos\n",
    "matrixC = tf.reshape(matrixB, [3, -1]) #de forma similar, 3 multiplicado por cuando es igual a 60. En este caso, -1 es igual a 20\n",
    "print(sess.run(rank_three_tensor))\n",
    "print(sess.run(matrix))\n",
    "print(sess.run(matrixB))"
   ]
  },
  {
   "cell_type": "markdown",
   "metadata": {},
   "source": [
    "<b>Llenar un tensor con una constante</b>\n",
    "<br>\n",
    "A continuación, se llena un tensor con una constante."
   ]
  },
  {
   "cell_type": "code",
   "execution_count": 13,
   "metadata": {
    "collapsed": false
   },
   "outputs": [
    {
     "name": "stdout",
     "output_type": "stream",
     "text": [
      "[[-2 -2 -2]\n",
      " [-2 -2 -2]]\n"
     ]
    }
   ],
   "source": [
    "var_1 = tf.Variable(tf.fill([dim_fila, dim_col], -2))\n",
    "sess.run(var_1.initializer)\n",
    "print(sess.run(var_1))"
   ]
  },
  {
   "cell_type": "markdown",
   "metadata": {},
   "source": [
    "También podemos crear una variable a partir de una matriz o lista de constantes"
   ]
  },
  {
   "cell_type": "code",
   "execution_count": 14,
   "metadata": {
    "collapsed": false
   },
   "outputs": [
    {
     "name": "stdout",
     "output_type": "stream",
     "text": [
      "[4 6 7 5 3 0 9]\n",
      "[[-1 -1 -1]\n",
      " [-1 -1 -1]]\n"
     ]
    }
   ],
   "source": [
    "# Crea una variable a partir de una constante\n",
    "const_var = tf.Variable(tf.constant([4, 6, 7, 5, 3, 0, 9]))\n",
    "# Esto también se puede usar para llenar una matriz:\n",
    "const_fill_var = tf.Variable(tf.constant(-1, shape=[dim_fila, dim_col]))\n",
    "\n",
    "sess.run(const_var.initializer)\n",
    "sess.run(const_fill_var.initializer)\n",
    "\n",
    "print(sess.run(const_var))\n",
    "print(sess.run(const_fill_var))"
   ]
  },
  {
   "cell_type": "markdown",
   "metadata": {},
   "source": [
    "<b>Crear tensores basados en secuencias y rangos</b>\n",
    "<br>\n",
    "También podemos crear tensores a partir de funciones generadoras de secuencia en TensorFlow. La función TensorFlow linspace() y range() funcionan de forma muy similar a los equivalentes python y numpy respectivamente.\n"
   ]
  },
  {
   "cell_type": "code",
   "execution_count": 15,
   "metadata": {
    "collapsed": false
   },
   "outputs": [
    {
     "name": "stdout",
     "output_type": "stream",
     "text": [
      "[ 0.   0.5  1. ]\n",
      "[ 6  9 12]\n"
     ]
    }
   ],
   "source": [
    "lineal = tf.Variable(tf.linspace(start=0.0, stop=1.0, num=3)) # Genera [0.0, 0.5, 1.0] \n",
    "\n",
    "secuencia = tf.Variable(tf.range(start=6, limit=15, delta=3)) # Genera [6, 9, 12] \n",
    "\n",
    "sess.run(lineal.initializer)\n",
    "sess.run(secuencia.initializer)\n",
    "\n",
    "print(sess.run(lineal))\n",
    "print(sess.run(secuencia))"
   ]
  },
  {
   "cell_type": "markdown",
   "metadata": {},
   "source": [
    "<b>Tensores de números aleatorios</b>\n",
    "<br>\n",
    "También podemos inicializar tensores que provienen de números aleatorios como el siguiente."
   ]
  },
  {
   "cell_type": "code",
   "execution_count": 16,
   "metadata": {
    "collapsed": false
   },
   "outputs": [
    {
     "name": "stdout",
     "output_type": "stream",
     "text": [
      "[[-0.99724257  0.3245981  -0.269012  ]\n",
      " [-0.13998128 -0.88861853 -2.18551683]]\n",
      "[[ 2.0086956   1.97782612  3.31263351]\n",
      " [ 3.91678572  0.08990765  0.05510807]]\n",
      "(2, 3)\n"
     ]
    }
   ],
   "source": [
    "random_norm = tf.random_normal([dim_fila, dim_col], mean=0.0, stddev=1.0)\n",
    "random_unif = tf.random_uniform([dim_fila, dim_col], minval=0, maxval=4)\n",
    "\n",
    "print(sess.run(random_norm))\n",
    "print(sess.run(random_unif))\n",
    "print(random_norm.shape)"
   ]
  },
  {
   "cell_type": "markdown",
   "metadata": {},
   "source": [
    "<b>Visualización a partir de TensorBoard</b>"
   ]
  },
  {
   "cell_type": "code",
   "execution_count": 17,
   "metadata": {
    "collapsed": false
   },
   "outputs": [],
   "source": [
    "# Reiniciar el grafo\n",
    "ops.reset_default_graph()\n",
    "\n",
    "# Iniciando la sesión \n",
    "sess = tf.Session()\n",
    "\n",
    "# Creando una variable\n",
    "var = tf.Variable([[1,2,3,4]])\n",
    "\n",
    "# Inicialización y escritura sobre el grafo\n",
    "writer = tf.summary.FileWriter(\"./temp/\", graph=sess.graph)\n",
    "\n",
    "# Inicialización de la operación\n",
    "initialize_op = tf.global_variables_initializer()\n",
    "\n",
    "# Ejecutar la inicialización de la variable\n",
    "sess.run(initialize_op)"
   ]
  },
  {
   "cell_type": "markdown",
   "metadata": {},
   "source": [
    "<b>Variables y Placeholders</b>\n",
    "<br>\n",
    "<b>Declarar placeholders</b>\n",
    "<br>\n",
    "Declaramos un placeholders utilizando la función de TensorFlow, tf.placeholder(), que acepta un argumento de tipo (tf.float32) y un argumento de forma, (4,4). Tenga en cuenta que la forma puede ser una tupla o una lista, [4,4]."
   ]
  },
  {
   "cell_type": "code",
   "execution_count": 18,
   "metadata": {
    "collapsed": true
   },
   "outputs": [],
   "source": [
    "x = tf.placeholder(tf.float32, shape=(4, 4))\n",
    "x_1 = tf.placeholder(tf.float32, shape=(4, 4))"
   ]
  },
  {
   "cell_type": "markdown",
   "metadata": {},
   "source": [
    "Para ilustrar cómo usar un placeholder, creamos datos de entrada para él y una operación que podemos visualizar en Tensorboard. Tenga en cuenta el uso de feed_dict, donde introducimos el valor de x en el grafo computacional."
   ]
  },
  {
   "cell_type": "code",
   "execution_count": 19,
   "metadata": {
    "collapsed": false
   },
   "outputs": [
    {
     "name": "stdout",
     "output_type": "stream",
     "text": [
      "[[ 0.69596862  0.75880031  0.02914946  0.84081363]\n",
      " [ 0.54311772  0.76772375  0.40043366  0.44920707]\n",
      " [ 0.20183368  0.10853418  0.17310779  0.79063881]\n",
      " [ 0.54396434  0.41410401  0.05284362  0.92208342]]\n",
      "[[  4.84372318e-01   5.75777948e-01   8.49690754e-04   7.06967592e-01]\n",
      " [  2.94976830e-01   5.89399755e-01   1.60347119e-01   2.01786995e-01]\n",
      " [  4.07368354e-02   1.17796678e-02   2.99663059e-02   6.25109732e-01]\n",
      " [  2.95897186e-01   1.71482131e-01   2.79244850e-03   8.50237846e-01]]\n"
     ]
    }
   ],
   "source": [
    "import numpy as np\n",
    "\n",
    "# Ingrese los datos en el marcador de posición, tenga en cuenta que 'array' y 'x' tienen la misma forma.\n",
    "array = np.random.rand(4,4)\n",
    "print(array)\n",
    "# Crea un Tensor para realizar una operación (aquí, y será igual a x, una matriz de 4x4)\n",
    "y = x * x_1 \n",
    "\n",
    "sess = tf.Session()\n",
    "\n",
    "# Se introduce el valor de x en el grafo computacional\n",
    "print(sess.run(y, feed_dict={x: array, x_1:array}))"
   ]
  },
  {
   "cell_type": "code",
   "execution_count": 20,
   "metadata": {
    "collapsed": false
   },
   "outputs": [
    {
     "name": "stdout",
     "output_type": "stream",
     "text": [
      "[ 6.  7.  8.]\n"
     ]
    }
   ],
   "source": [
    "# Reiniciar el grafo\n",
    "ops.reset_default_graph()\n",
    "# crea un placeholder de tipo float 32-bit, shape es un vector 3 elementos\n",
    "a = tf.placeholder(tf.float32, shape=[3])\n",
    "# crea una constante de tipo float 32-bit, shape es un vector 3 elementos\n",
    "b = tf.constant([5, 5, 5], tf.float32)\n",
    "c = a + b # equivalente a c = tf.add(a,b)\n",
    "with tf.Session() as sess:\n",
    "    # Inicialización y escritura sobre el grafo\n",
    "    writer = tf.summary.FileWriter(\"./temp2/\", graph=sess.graph)\n",
    "    print sess.run(c, feed_dict={a : [1,2,3]})"
   ]
  },
  {
   "cell_type": "markdown",
   "metadata": {},
   "source": [
    "<b>Matrices y Operaciones</b>\n",
    "<br>\n",
    "<b>Declarando matrices</b>\n",
    "<br>\n",
    "Matriz identidad:\n",
    "\n"
   ]
  },
  {
   "cell_type": "code",
   "execution_count": 21,
   "metadata": {
    "collapsed": false
   },
   "outputs": [
    {
     "name": "stdout",
     "output_type": "stream",
     "text": [
      "[[ 1.  0.  0.]\n",
      " [ 0.  1.  0.]\n",
      " [ 0.  0.  1.]]\n"
     ]
    }
   ],
   "source": [
    "identity_matrix = tf.diag([1.0,1.0,1.0])\n",
    "sess = tf.Session()\n",
    "\n",
    "print(sess.run(identity_matrix))"
   ]
  },
  {
   "cell_type": "markdown",
   "metadata": {},
   "source": [
    "Matriz norma aleatoria 2x3:\n"
   ]
  },
  {
   "cell_type": "code",
   "execution_count": 22,
   "metadata": {
    "collapsed": false
   },
   "outputs": [
    {
     "name": "stdout",
     "output_type": "stream",
     "text": [
      "[[-1.41125607 -0.21723075 -1.17069662]\n",
      " [ 1.33875549  0.79039299 -1.69958162]]\n"
     ]
    }
   ],
   "source": [
    "A = tf.truncated_normal([2,3])\n",
    "print(sess.run(A))"
   ]
  },
  {
   "cell_type": "markdown",
   "metadata": {},
   "source": [
    "Matriz constante 2x3:"
   ]
  },
  {
   "cell_type": "code",
   "execution_count": 23,
   "metadata": {
    "collapsed": false
   },
   "outputs": [
    {
     "name": "stdout",
     "output_type": "stream",
     "text": [
      "[[ 5.  5.  5.]\n",
      " [ 5.  5.  5.]]\n"
     ]
    }
   ],
   "source": [
    "B = tf.fill([2,3], 5.0)\n",
    "print(sess.run(B))"
   ]
  },
  {
   "cell_type": "markdown",
   "metadata": {},
   "source": [
    "Matriz uniforme al azar 3x2:"
   ]
  },
  {
   "cell_type": "code",
   "execution_count": 24,
   "metadata": {
    "collapsed": false
   },
   "outputs": [
    {
     "name": "stdout",
     "output_type": "stream",
     "text": [
      "[[ 0.27378368  0.82507312]\n",
      " [ 0.69587958  0.00463498]\n",
      " [ 0.2852118   0.020069  ]]\n"
     ]
    }
   ],
   "source": [
    "C = tf.random_uniform([3,2])\n",
    "print(sess.run(C))"
   ]
  },
  {
   "cell_type": "markdown",
   "metadata": {},
   "source": [
    "Creando una matriz a partir de numpy:"
   ]
  },
  {
   "cell_type": "code",
   "execution_count": 25,
   "metadata": {
    "collapsed": false
   },
   "outputs": [
    {
     "name": "stdout",
     "output_type": "stream",
     "text": [
      "[[ 1.  2.  3.]\n",
      " [-3. -7. -1.]\n",
      " [ 0.  5. -2.]]\n",
      "(3, 3)\n"
     ]
    }
   ],
   "source": [
    "D = tf.convert_to_tensor(np.array([[1., 2., 3.], [-3., -7., -1.], [0., 5., -2.]]))\n",
    "print(sess.run(D))\n",
    "print D.shape"
   ]
  },
  {
   "cell_type": "markdown",
   "metadata": {},
   "source": [
    "<b>Matriz Operaciones</b>"
   ]
  },
  {
   "cell_type": "code",
   "execution_count": 26,
   "metadata": {
    "collapsed": false
   },
   "outputs": [
    {
     "name": "stdout",
     "output_type": "stream",
     "text": [
      "[[ 6.01543045  3.96632528  5.52950716]\n",
      " [ 5.56137419  4.58699512  4.88397312]]\n",
      "[[ 0.  0.  0.]\n",
      " [ 0.  0.  0.]]\n"
     ]
    }
   ],
   "source": [
    "print(sess.run(A+B))\n",
    "print(sess.run(B-B))"
   ]
  },
  {
   "cell_type": "code",
   "execution_count": 27,
   "metadata": {
    "collapsed": false
   },
   "outputs": [
    {
     "name": "stdout",
     "output_type": "stream",
     "text": [
      "[[ 5.  5.  5.]\n",
      " [ 5.  5.  5.]]\n"
     ]
    }
   ],
   "source": [
    "print(sess.run(tf.matmul(B, identity_matrix)))\n"
   ]
  },
  {
   "cell_type": "markdown",
   "metadata": {},
   "source": [
    "Matrix Transpuesta:"
   ]
  },
  {
   "cell_type": "code",
   "execution_count": 28,
   "metadata": {
    "collapsed": false
   },
   "outputs": [
    {
     "name": "stdout",
     "output_type": "stream",
     "text": [
      "[[ 0.66823876  0.04987943  0.38704813]\n",
      " [ 0.75602126  0.8989501   0.04836631]]\n"
     ]
    }
   ],
   "source": [
    "print(sess.run(tf.transpose(C)))"
   ]
  },
  {
   "cell_type": "markdown",
   "metadata": {},
   "source": [
    "Determinante de la matriz:\n"
   ]
  },
  {
   "cell_type": "code",
   "execution_count": 29,
   "metadata": {
    "collapsed": false
   },
   "outputs": [
    {
     "name": "stdout",
     "output_type": "stream",
     "text": [
      "-38.0\n"
     ]
    }
   ],
   "source": [
    "print(sess.run(tf.matrix_determinant(D)))\n"
   ]
  },
  {
   "cell_type": "markdown",
   "metadata": {},
   "source": [
    "Matriz inversa:\n"
   ]
  },
  {
   "cell_type": "code",
   "execution_count": 30,
   "metadata": {
    "collapsed": false
   },
   "outputs": [
    {
     "name": "stdout",
     "output_type": "stream",
     "text": [
      "[[-0.5        -0.5        -0.5       ]\n",
      " [ 0.15789474  0.05263158  0.21052632]\n",
      " [ 0.39473684  0.13157895  0.02631579]]\n"
     ]
    }
   ],
   "source": [
    "print(sess.run(tf.matrix_inverse(D)))\n"
   ]
  }
 ],
 "metadata": {
  "anaconda-cloud": {},
  "kernelspec": {
   "display_name": "Python [default]",
   "language": "python",
   "name": "python2"
  },
  "language_info": {
   "codemirror_mode": {
    "name": "ipython",
    "version": 2
   },
   "file_extension": ".py",
   "mimetype": "text/x-python",
   "name": "python",
   "nbconvert_exporter": "python",
   "pygments_lexer": "ipython2",
   "version": "2.7.12"
  }
 },
 "nbformat": 4,
 "nbformat_minor": 1
}

