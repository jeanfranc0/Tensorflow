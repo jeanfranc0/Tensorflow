{
 "cells": [
  {
   "cell_type": "code",
   "execution_count": 1,
   "metadata": {
    "collapsed": true
   },
   "outputs": [],
   "source": [
    "import numpy as np\n",
    "import time\n",
    "from datetime import timedelta\n",
    "import os\n",
    "\n",
    "from PIL import Image"
   ]
  },
  {
   "cell_type": "code",
   "execution_count": 2,
   "metadata": {
    "collapsed": true
   },
   "outputs": [],
   "source": [
    "standard_size = 200\n",
    "num_channels = 3\n",
    "batch_size_for_transfer_comp = 5\n",
    "\n",
    "num_color_transf = 2\n",
    "\n",
    "session = None\n",
    "image = None\n",
    "wrap_pre_process_image = None\n",
    "\n",
    "model = None\n",
    "transfer_len = 0"
   ]
  },
  {
   "cell_type": "code",
   "execution_count": 3,
   "metadata": {
    "collapsed": true
   },
   "outputs": [],
   "source": [
    "def compute_shape_transfer_values(dataset_dir):\n",
    "    # Lectura de los archivos\n",
    "    image_filenames = [f for f in os.listdir(dataset_dir) if f.endswith(\".jpg\")]\n",
    "    # Ordena todos elementos dentro de la lista\n",
    "    image_filenames.sort()\n",
    "    # Nro de elementos del arreglo\n",
    "    nimages = len(image_filenames)\n",
    "\n",
    "    # Separar espacio de memoria para las imágenes\n",
    "    dataset_shape = np.zeros((nimages, standard_size, standard_size,num_channels), dtype=np.float32)\n",
    "    print (dataset_shape.shape)\n",
    "    # Separar espacio de memoria para las etiquetas de las imágenes\n",
    "    cls_shape = np.zeros(nimages, dtype=np.int)\n",
    "\n",
    "    i = 0 \n",
    "    current_index = 0\n",
    "    while i < nimages:\n",
    "        # batch filenames\n",
    "        j = min(i+batch_size_for_transfer_comp, nimages)\n",
    "        batch_filenames = image_filenames[i:j]\n",
    "        print (\"shape transfer values {}\".format(current_index))\n",
    "        \n",
    "        # Asignar las imágenes correspondientes\n",
    "        batch_dataset, batch_cls = compute_batch_shape_transfer_values(dataset_dir, batch_filenames)\n",
    "        print (len(batch_dataset))\n",
    "        print (len(batch_cls))\n",
    "        dataset_shape[current_index: current_index + len(batch_cls)] = batch_dataset\n",
    "        cls_shape[current_index: current_index + len(batch_cls)] = batch_cls\n",
    "        current_index += len(batch_cls)\n",
    "        i = j\n",
    "    return dataset_shape, cls_shape"
   ]
  },
  {
   "cell_type": "code",
   "execution_count": 4,
   "metadata": {
    "collapsed": true
   },
   "outputs": [],
   "source": [
    "def compute_batch_shape_transfer_values(dataset_dir, list_filenames):\n",
    "    # numero de imágenes\n",
    "    nimages = len(list_filenames)\n",
    "    # Separar espacio de memoria para las imágenes\n",
    "    images_shape = np.zeros((nimages, standard_size, standard_size, num_channels), dtype=np.float32)\n",
    "    # Separar espacio de memoria para las etiquetas de las imágenes\n",
    "    cls_shape = np.zeros(nimages, dtype=np.int)\n",
    "    \n",
    "    current_index = 0\n",
    "    for image_filename in list_filenames:\n",
    "        arr_filename = image_filename.split('_') # asumiendo que el formato es class_imagenumber.jpg\n",
    "        # obtenemos la clase de la imagen\n",
    "        cls = int(arr_filename[0]) - 1\n",
    "        # Encontrar la ruta de la imagen\n",
    "        image_path = dataset_dir + image_filename\n",
    "        # Manejo la información de la imagen\n",
    "        pil_image = Image.open(image_path)\n",
    "        # Resize de la imagen \n",
    "        pil_image = pil_image.resize((standard_size, standard_size), Image.ANTIALIAS)\n",
    "        pad_image = np.asarray(pil_image , dtype=np.float32)\n",
    "        \n",
    "        # Se guarda la imagen en el espacio de memoria previamente separado\n",
    "        images_shape[current_index, :, :, :] = pad_image\n",
    "        # Se guarda la etiqueta de la clase en el espacio de memoria previamente separado\n",
    "        cls_shape[current_index] = cls\n",
    "        current_index += 1\n",
    "    \n",
    "    return images_shape, cls_shape"
   ]
  },
  {
   "cell_type": "code",
   "execution_count": 5,
   "metadata": {
    "collapsed": true
   },
   "outputs": [],
   "source": [
    "img_dir = ''\n",
    "output_data = ''\n",
    "output_cls = ''"
   ]
  },
  {
   "cell_type": "code",
   "execution_count": 6,
   "metadata": {
    "collapsed": false
   },
   "outputs": [
    {
     "name": "stdout",
     "output_type": "stream",
     "text": [
      "(6, 200, 200, 3)\n",
      "shape transfer values 0\n",
      "5\n",
      "5\n",
      "shape transfer values 5\n",
      "1\n",
      "1\n",
      "(6, 200, 200, 3)\n",
      "Shape saved\n"
     ]
    }
   ],
   "source": [
    "img_dir = 'db/test/'\n",
    "output_data = 'shape_test.npy'\n",
    "output_cls = 'shape_test_cls.npy'\n",
    "transfer_values_shape, cls_shape = compute_shape_transfer_values(img_dir)\n",
    "print (transfer_values_shape.shape)\n",
    "np.save(output_data, transfer_values_shape)\n",
    "np.save(output_cls , cls_shape)\n",
    "print (\"Shape saved\")"
   ]
  },
  {
   "cell_type": "code",
   "execution_count": 7,
   "metadata": {
    "collapsed": false
   },
   "outputs": [
    {
     "name": "stdout",
     "output_type": "stream",
     "text": [
      "(14, 200, 200, 3)\n",
      "shape transfer values 0\n",
      "5\n",
      "5\n",
      "shape transfer values 5\n",
      "5\n",
      "5\n",
      "shape transfer values 10\n",
      "4\n",
      "4\n",
      "(14, 200, 200, 3)\n",
      "Shape saved\n"
     ]
    }
   ],
   "source": [
    "img_dir = 'db/train/'\n",
    "output_data = 'shape_train.npy'\n",
    "output_cls = 'shape_train_cls.npy'\n",
    "transfer_values_shape, cls_shape = compute_shape_transfer_values(img_dir)\n",
    "print (transfer_values_shape.shape)\n",
    "np.save(output_data, transfer_values_shape)\n",
    "np.save(output_cls , cls_shape)\n",
    "print (\"Shape saved\")"
   ]
  },
  {
   "cell_type": "code",
   "execution_count": null,
   "metadata": {
    "collapsed": true
   },
   "outputs": [],
   "source": []
  }
 ],
 "metadata": {
  "anaconda-cloud": {},
  "kernelspec": {
   "display_name": "Python [default]",
   "language": "python",
   "name": "python2"
  },
  "language_info": {
   "codemirror_mode": {
    "name": "ipython",
    "version": 2
   },
   "file_extension": ".py",
   "mimetype": "text/x-python",
   "name": "python",
   "nbconvert_exporter": "python",
   "pygments_lexer": "ipython2",
   "version": "2.7.12"
  }
 },
 "nbformat": 4,
 "nbformat_minor": 1
}
